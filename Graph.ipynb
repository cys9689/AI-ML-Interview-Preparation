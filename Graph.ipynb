{
 "cells": [
  {
   "cell_type": "code",
   "execution_count": 1,
   "metadata": {},
   "outputs": [],
   "source": [
    "# Disjoint Set\n"
   ]
  },
  {
   "cell_type": "markdown",
   "metadata": {},
   "source": [
    "Basic Idea of \"Disjoint Set\"\n",
    "\n",
    "First, think about following questions\n",
    "- How do we know if the the vertices is connected (direct/Indirect)\n",
    "\n",
    "Introduction to Disjoint Sets\n",
    "1. Unin all the connected vertices together \n",
    "2. Mark each union with a head (root)\n",
    "3. Check two vertices by whether they share the same head to determine connectivity\n"
   ]
  },
  {
   "cell_type": "markdown",
   "metadata": {},
   "source": [
    "Implementing Disjoint Set\n",
    "\n",
    "Data Structure : Array\n",
    "\n",
    "Array Index will be the Vertex\n",
    "Array Valud will be the Parent Vertex \n",
    "\n",
    "find() and union() "
   ]
  },
  {
   "cell_type": "code",
   "execution_count": 2,
   "metadata": {},
   "outputs": [
    {
     "name": "stdout",
     "output_type": "stream",
     "text": [
      "True\n",
      "True\n",
      "False\n",
      "True\n"
     ]
    }
   ],
   "source": [
    "# UnionFind class -> Quick Find Operation\n",
    "class UnionFind:\n",
    "    def __init__(self, size):\n",
    "        self.root = [i for i in range(size)]\n",
    "\n",
    "    def find(self, x):\n",
    "        return self.root[x]\n",
    "\t\t\n",
    "    def union(self, x, y):\n",
    "        rootX = self.find(x)\n",
    "        rootY = self.find(y)\n",
    "        if rootX != rootY:\n",
    "            for i in range(len(self.root)):\n",
    "                if self.root[i] == rootY:\n",
    "                    self.root[i] = rootX\n",
    "\n",
    "    def connected(self, x, y):\n",
    "        return self.find(x) == self.find(y)\n",
    "\n",
    "\n",
    "# Test Case\n",
    "uf = UnionFind(10)\n",
    "# 1-2-5-6-7 3-8-9 4\n",
    "uf.union(1, 2)\n",
    "uf.union(2, 5)\n",
    "uf.union(5, 6)\n",
    "uf.union(6, 7)\n",
    "uf.union(3, 8)\n",
    "uf.union(8, 9)\n",
    "print(uf.connected(1, 5))  # true\n",
    "print(uf.connected(5, 7))  # true\n",
    "print(uf.connected(4, 9))  # false\n",
    "# 1-2-5-6-7 3-8-9-4\n",
    "uf.union(9, 4)\n",
    "print(uf.connected(4, 9))  # true"
   ]
  },
  {
   "cell_type": "markdown",
   "metadata": {},
   "source": [
    "# Time Complexity\n",
    "\n",
    "Note:  N is the number of vertices in the graph.\n",
    "- When initializing a union-find constructor, we need to create an array of size  N with the values equal to the corresponding array indices; this requires linear time.\n",
    "- Each call to find will require O(1) time since we are just accessing an element of the array at the given index.\n",
    "- Each call to union will require O(N) time because we need to traverse through the entire array and update the root vertices for all the vertices of the set that is going to be merged into another set.\n",
    "- The connected operation takes O(1) time since it involves the two find calls and the equality check operation."
   ]
  },
  {
   "cell_type": "markdown",
   "metadata": {},
   "source": [
    "# Space Complexity\n",
    "We need  O(N) space to store the array of size N."
   ]
  },
  {
   "cell_type": "code",
   "execution_count": null,
   "metadata": {},
   "outputs": [],
   "source": [
    "#UnionFind class -> Quick Union\n",
    "# the array value is root node. when connecting a new node, not all the value will be changed\n",
    "# eg. if we want to connect node 1 (root -> 0) and node 5 (root-> 4), the value of node 4 will change from 4 to 0 but the rest remain the same. only the rootY will be changed; this is why it's a quickUnion\n",
    "# both find and union is O(N) , because the union is rely on union\n",
    "# so as the connected method"
   ]
  },
  {
   "cell_type": "code",
   "execution_count": null,
   "metadata": {},
   "outputs": [],
   "source": [
    "# Quick Union is more efficient then quick find, because of it is only O(N^2) when worst case\n",
    "# the quick find will need O(N^2) in general"
   ]
  },
  {
   "cell_type": "code",
   "execution_count": null,
   "metadata": {},
   "outputs": [],
   "source": [
    "# Union by Rank:"
   ]
  },
  {
   "cell_type": "code",
   "execution_count": null,
   "metadata": {},
   "outputs": [],
   "source": [
    "# Problem 547. Number of Provinces\n",
    "from typing import List\n",
    "\n",
    "class UnionFind:\n",
    "\n",
    "    def __init__(self,size):\n",
    "        self.parent = list(range(size))\n",
    "        self.rank = [0] * size\n",
    "    \n",
    "    def find(self,x):\n",
    "        if self.parent[x] != x:\n",
    "            self.parent[x] = self.find(self.parent[x])\n",
    "        return self.parent[x]\n",
    "\n",
    "    def union_set(self,x,y):\n",
    "        xset = self.find(x)\n",
    "        yset = self.find(y)\n",
    "        if self.rank[xset] < self.rank[yset]:\n",
    "            self.parent[xset] = yset\n",
    "        elif self.rank[xset] > self.rank[yset]:\n",
    "            self.parent[yset] = xset\n",
    "        else:\n",
    "            self.parent[yset] = xset\n",
    "            self.rank[xset] += 1\n",
    "\n",
    "class Solution:\n",
    "    def findCircleNum(self, isConnected: List[List[int]]) -> int:\n",
    "        n = len(isConnected)\n",
    "        uf = UnionFind(n)\n",
    "        numberOfComponents = n\n",
    "        for i in range(n):\n",
    "            for j in range(i+1,n):\n",
    "                if isConnected[i][j] == 1 and uf.find(i) != uf.find(j):\n",
    "                    numberOfComponents -= 1\n",
    "                    uf.union_set(i,j)\n",
    "        return numberOfComponents\n",
    "\n"
   ]
  }
 ],
 "metadata": {
  "kernelspec": {
   "display_name": "Python 3",
   "language": "python",
   "name": "python3"
  },
  "language_info": {
   "codemirror_mode": {
    "name": "ipython",
    "version": 3
   },
   "file_extension": ".py",
   "mimetype": "text/x-python",
   "name": "python",
   "nbconvert_exporter": "python",
   "pygments_lexer": "ipython3",
   "version": "3.8.8"
  }
 },
 "nbformat": 4,
 "nbformat_minor": 2
}
