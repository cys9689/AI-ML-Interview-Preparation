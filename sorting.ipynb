{
 "cells": [
  {
   "cell_type": "code",
   "execution_count": 18,
   "metadata": {},
   "outputs": [],
   "source": [
    "# Bubble Sort\n",
    "def bubblesort(nums):\n",
    "    n = len(nums)\n",
    "    for i in range(n-1):\n",
    "        for j in range(n-1):\n",
    "            if nums[j] > nums[j+1]:\n",
    "                temp = nums[j+1]\n",
    "                nums[j+1] = nums[j]\n",
    "                nums[j] = temp\n",
    "    return nums"
   ]
  },
  {
   "cell_type": "code",
   "execution_count": 19,
   "metadata": {},
   "outputs": [
    {
     "data": {
      "text/plain": [
       "[0, 1, 2, 4, 5, 6, 44, 63, 87, 99, 283]"
      ]
     },
     "execution_count": 19,
     "metadata": {},
     "output_type": "execute_result"
    }
   ],
   "source": [
    "array = [99,44,6,2,1,5,63,87,283,4,0]\n",
    "bubblesort(array)"
   ]
  },
  {
   "cell_type": "code",
   "execution_count": 20,
   "metadata": {},
   "outputs": [],
   "source": [
    "def selectionsort(nums):\n",
    "    n = len(nums)\n",
    "    for i in range(n):\n",
    "        min_index = i\n",
    "        for j in range(i+1,n):\n",
    "            if nums[j] < nums[min_index]:\n",
    "                 min_index = j\n",
    "        (nums[i],nums[min_index]) = (nums[min_index],nums[i])\n",
    "    return nums\n",
    "\n",
    "        "
   ]
  },
  {
   "cell_type": "code",
   "execution_count": 21,
   "metadata": {},
   "outputs": [
    {
     "data": {
      "text/plain": [
       "[0, 1, 2, 4, 5, 6, 44, 63, 87, 99, 283]"
      ]
     },
     "execution_count": 21,
     "metadata": {},
     "output_type": "execute_result"
    }
   ],
   "source": [
    "array = [99,44,6,2,1,5,63,87,283,4,0]\n",
    "\n",
    "selectionsort(array)"
   ]
  },
  {
   "cell_type": "code",
   "execution_count": 30,
   "metadata": {},
   "outputs": [],
   "source": [
    "def inserctionsort(nums):\n",
    "    empty_array = [nums[0]]\n",
    "    for i in range(1,len(nums)):\n",
    "        if nums[i] > empty_array[-1]:\n",
    "            empty_array.append(nums[i])\n",
    "        elif nums[i] < empty_array[0]:\n",
    "            empty_array = nums[i] + empty_array\n",
    "        else:\n",
    "            for j in range(len(empty_array)):\n",
    "                if empty_array[j] < nums[i] and empty_array[j+1] >= nums[i]:\n",
    "                    empty_array = empty_array[:j] + nums[i] + empty_array[j+1:]\n",
    "    return empty_array"
   ]
  },
  {
   "cell_type": "code",
   "execution_count": 31,
   "metadata": {},
   "outputs": [
    {
     "data": {
      "text/plain": [
       "[0, 1, 2, 4, 5, 6, 44, 63, 87, 99, 283]"
      ]
     },
     "execution_count": 31,
     "metadata": {},
     "output_type": "execute_result"
    }
   ],
   "source": [
    "inserctionsort(array)"
   ]
  },
  {
   "cell_type": "code",
   "execution_count": null,
   "metadata": {},
   "outputs": [],
   "source": [
    "# Merge Sort\n",
    "\n",
    "\n",
    "def mergeSort(array):\n",
    "    "
   ]
  },
  {
   "cell_type": "code",
   "execution_count": 32,
   "metadata": {},
   "outputs": [],
   "source": [
    "class KthLargest:\n",
    "\n",
    "    def __init__(self, k,nums):\n",
    "        self.k = k \n",
    "        self.stream = nums\n",
    "        self.stream.sort()\n",
    "\n",
    "    def add(self, val):\n",
    "        index = self.getIndex(val)\n",
    "        self.stream.insert(index,val)\n",
    "        return self.stream[-self.k]\n",
    "    def getIndex(self,val):\n",
    "        left ,right = 0 , len(self.stream) -1\n",
    "        while left <= right:\n",
    "            mid = (left+right) // 2\n",
    "            mid_element = self.stream[mid]\n",
    "            if mid_element == val:\n",
    "                return mid\n",
    "            elif mid_element > val:\n",
    "                right = mid -1\n",
    "            else:\n",
    "                left = mid+1\n",
    "        return left\n",
    "# Your KthLargest object will be instantiated and called as such:\n",
    "# obj = KthLargest(k, nums)\n",
    "# param_1 = obj.add(val)"
   ]
  },
  {
   "cell_type": "code",
   "execution_count": 34,
   "metadata": {},
   "outputs": [],
   "source": [
    "test = KthLargest(3,[4,5,8,2])"
   ]
  },
  {
   "cell_type": "code",
   "execution_count": 35,
   "metadata": {},
   "outputs": [
    {
     "data": {
      "text/plain": [
       "4"
      ]
     },
     "execution_count": 35,
     "metadata": {},
     "output_type": "execute_result"
    }
   ],
   "source": [
    "test.add(3)"
   ]
  },
  {
   "cell_type": "code",
   "execution_count": 36,
   "metadata": {},
   "outputs": [
    {
     "data": {
      "text/plain": [
       "5"
      ]
     },
     "execution_count": 36,
     "metadata": {},
     "output_type": "execute_result"
    }
   ],
   "source": [
    "test.add(5)"
   ]
  },
  {
   "cell_type": "code",
   "execution_count": 37,
   "metadata": {},
   "outputs": [
    {
     "data": {
      "text/plain": [
       "5"
      ]
     },
     "execution_count": 37,
     "metadata": {},
     "output_type": "execute_result"
    }
   ],
   "source": [
    "test.add(10)"
   ]
  },
  {
   "cell_type": "code",
   "execution_count": 38,
   "metadata": {},
   "outputs": [
    {
     "data": {
      "text/plain": [
       "8"
      ]
     },
     "execution_count": 38,
     "metadata": {},
     "output_type": "execute_result"
    }
   ],
   "source": [
    "test.add(9)"
   ]
  },
  {
   "cell_type": "code",
   "execution_count": 39,
   "metadata": {},
   "outputs": [
    {
     "data": {
      "text/plain": [
       "8"
      ]
     },
     "execution_count": 39,
     "metadata": {},
     "output_type": "execute_result"
    }
   ],
   "source": [
    "test.add(4)"
   ]
  },
  {
   "cell_type": "code",
   "execution_count": 7,
   "metadata": {},
   "outputs": [],
   "source": [
    "def mergesort(nums):\n",
    "    if len(nums) <= 1:\n",
    "        return nums\n",
    "    pivot = len(nums)//2\n",
    "    left_list = mergesort(nums[0:pivot])\n",
    "    right_list = mergesort(nums[pivot:])\n",
    "    return merge(left_list,right_list)\n",
    "def merge(left_list,right_list):\n",
    "    left_cursor  = right_cursor = 0\n",
    "    ret = []\n",
    "    while left_cursor < len(left_list) and right_cursor <len(right_list):\n",
    "        if left_list[left_cursor] < right_list[right_cursor]:\n",
    "            ret.append(left_list[left_cursor])\n",
    "            left_cursor+=1\n",
    "        else:\n",
    "            ret.append(right_list[right_cursor])\n",
    "            right_cursor+=1\n",
    "    ret.extend(left_list[left_cursor:])\n",
    "    ret.extend(right_list[right_cursor:])\n",
    "    return ret"
   ]
  },
  {
   "cell_type": "code",
   "execution_count": 8,
   "metadata": {},
   "outputs": [
    {
     "name": "stdout",
     "output_type": "stream",
     "text": [
      "[5]\n",
      "[3]\n",
      "[3, 5]\n",
      "[2]\n",
      "[1]\n",
      "[1, 2]\n"
     ]
    },
    {
     "data": {
      "text/plain": [
       "[1, 2, 3, 5]"
      ]
     },
     "execution_count": 8,
     "metadata": {},
     "output_type": "execute_result"
    }
   ],
   "source": [
    "mergesort([5,3,2,1])"
   ]
  },
  {
   "cell_type": "code",
   "execution_count": 8,
   "metadata": {},
   "outputs": [],
   "source": [
    "def quicksort(lst):\n",
    "\n",
    "    n = len(lst)\n",
    "    qsort(lst, 0, n - 1)\n",
    "    return lst\n",
    "def qsort(lst, lo, hi):\n",
    "\n",
    "    if lo < hi:\n",
    "        p = partition(lst, lo, hi)\n",
    "        qsort(lst, lo, p - 1)\n",
    "        qsort(lst, p + 1, hi)\n",
    "\n",
    "def partition(lst, lo, hi):\n",
    "    pivot = lst[hi]\n",
    "    i = lo\n",
    "    for j in range(lo, hi):\n",
    "        if lst[j] < pivot:\n",
    "            lst[i], lst[j] = lst[j], lst[i]\n",
    "            i += 1\n",
    "    lst[i], lst[hi] = lst[hi], lst[i]\n",
    "    return i"
   ]
  },
  {
   "cell_type": "code",
   "execution_count": 9,
   "metadata": {},
   "outputs": [
    {
     "data": {
      "text/plain": [
       "[1, 2, 3, 4, 5, 6, 7, 8]"
      ]
     },
     "execution_count": 9,
     "metadata": {},
     "output_type": "execute_result"
    }
   ],
   "source": [
    "quicksort([1,5,3,2,8,7,6,4])"
   ]
  },
  {
   "cell_type": "code",
   "execution_count": 7,
   "metadata": {},
   "outputs": [
    {
     "data": {
      "text/plain": [
       "([1, 3, 2, 4, 8, 7, 6, 5], 3)"
      ]
     },
     "execution_count": 7,
     "metadata": {},
     "output_type": "execute_result"
    }
   ],
   "source": [
    "partition([1,5,3,2,8,7,6,4],0,7)"
   ]
  },
  {
   "cell_type": "code",
   "execution_count": 10,
   "metadata": {},
   "outputs": [
    {
     "name": "stdout",
     "output_type": "stream",
     "text": [
      "[1, 2, 3, 7, 8, 9, 10, 14, 14, 16]\n"
     ]
    }
   ],
   "source": [
    "# Heap Sort \n",
    "\n",
    "def max_heapify(A,heap_size,i):\n",
    "    left = 2 * i + 1\n",
    "    right = 2 * i + 2\n",
    "    largest = i\n",
    "    if left < heap_size and A[left] > A[largest]:\n",
    "        largest = left\n",
    "    if right < heap_size and A[right] > A[largest]:\n",
    "        largest = right\n",
    "    if largest != i :\n",
    "        A[i] , A[largest] = A[largest] , A[i]\n",
    "        max_heapify(A , heap_size, largest)\n",
    "\n",
    "def build_heap(A):\n",
    "    heap_size = len(A)\n",
    "    for i in range((heap_size//2)-1,-1,-1):\n",
    "        max_heapify(A,heap_size,i)\n",
    "\n",
    "\n",
    "def heapsort(A):\n",
    "    heap_size = len(A)\n",
    "    build_heap(A)\n",
    "    for i in range(heap_size-1,0,-1):\n",
    "        A[0] , A[i]= A[i] , A[0]\n",
    "        heap_size -= 1 \n",
    "        max_heapify(A,heap_size,0)\n",
    "\n",
    "A = [2,8,1,14,14,7,16,10,9,3]\n",
    "heapsort(A)\n",
    "print(A)"
   ]
  },
  {
   "cell_type": "code",
   "execution_count": null,
   "metadata": {},
   "outputs": [],
   "source": []
  }
 ],
 "metadata": {
  "kernelspec": {
   "display_name": "Python 3",
   "language": "python",
   "name": "python3"
  },
  "language_info": {
   "codemirror_mode": {
    "name": "ipython",
    "version": 3
   },
   "file_extension": ".py",
   "mimetype": "text/x-python",
   "name": "python",
   "nbconvert_exporter": "python",
   "pygments_lexer": "ipython3",
   "version": "3.8.8"
  }
 },
 "nbformat": 4,
 "nbformat_minor": 2
}
