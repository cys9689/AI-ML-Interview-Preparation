{
 "cells": [
  {
   "cell_type": "code",
   "execution_count": null,
   "metadata": {},
   "outputs": [],
   "source": [
    "class UnionFind:\n",
    "    def __init__(self,size):\n",
    "        self.root = [i for i in range(size)]\n",
    "\n",
    "    def find(self,x):\n",
    "        return self.root[x]\n",
    "    \n",
    "    def union(self,x,y):\n",
    "        rootX = self.find(x)\n",
    "        rootY = self.find(y)\n",
    "        if rootX != rootY:\n",
    "            for i in range(len(self.root)):\n",
    "                if self.root[i] == rootY:\n",
    "                    self.root[i] == rootX\n",
    "                    \n",
    "    def connected(self,x,y):\n",
    "        return self.find(x) == self.find(y)\n"
   ]
  },
  {
   "cell_type": "code",
   "execution_count": null,
   "metadata": {},
   "outputs": [],
   "source": [
    "def run_dijkstra(\n",
    "    self, edges: List[List[int]], n: int, source: int, destination: int) -> int:\n",
    "    # Step 1: Initialize adjacency matrix and distance arrays\n",
    "    adj_matrix = [[self.INF] * n for _ in range(n)]\n",
    "    min_distance = [self.INF] * n\n",
    "    visited = [False] * n\n",
    "\n",
    "    # Set the distance to the source node as 0\n",
    "    min_distance[source] = 0\n",
    "\n",
    "    # Step 2: Fill the adjacency matrix with edge weights\n",
    "    for nodeA, nodeB, weight in edges:\n",
    "        if weight != -1:\n",
    "            adj_matrix[nodeA][nodeB] = weight\n",
    "            adj_matrix[nodeB][nodeA] = weight\n",
    "\n",
    "    # Step 3: Perform Dijkstra's algorithm\n",
    "    for _ in range(n):\n",
    "        # Find the nearest unvisited node\n",
    "        nearest_unvisited_node = -1\n",
    "        for i in range(n):\n",
    "            if not visited[i] and (\n",
    "                nearest_unvisited_node == -1\n",
    "                or min_distance[i] < min_distance[nearest_unvisited_node]\n",
    "            ):\n",
    "                nearest_unvisited_node = i\n",
    "\n",
    "        # Mark the nearest node as visited\n",
    "        visited[nearest_unvisited_node] = True\n",
    "\n",
    "        # Update the minimum distance for each adjacent node\n",
    "        for v in range(n):\n",
    "            min_distance[v] = min(\n",
    "                min_distance[v],\n",
    "                min_distance[nearest_unvisited_node]\n",
    "                + adj_matrix[nearest_unvisited_node][v],\n",
    "            )\n",
    "    # Return the shortest distance to the destination node\n",
    "    return min_distance[destination]"
   ]
  },
  {
   "cell_type": "code",
   "execution_count": 15,
   "metadata": {},
   "outputs": [],
   "source": [
    "def chalkReplacer(chalk,k):\n",
    "    no_of_student = 0\n",
    "    while k >= 0:\n",
    "        if no_of_student == len(chalk):\n",
    "            no_of_student = 0\n",
    "        k -= chalk[no_of_student]\n",
    "        print(no_of_student,k)\n",
    "        if k < 0:\n",
    "            break\n",
    "        no_of_student +=1\n",
    "    return no_of_student"
   ]
  },
  {
   "cell_type": "code",
   "execution_count": 16,
   "metadata": {},
   "outputs": [
    {
     "name": "stdout",
     "output_type": "stream",
     "text": [
      "0 17\n",
      "1 16\n",
      "2 11\n",
      "0 6\n",
      "1 5\n",
      "2 0\n",
      "0 -5\n"
     ]
    },
    {
     "data": {
      "text/plain": [
       "0"
      ]
     },
     "execution_count": 16,
     "metadata": {},
     "output_type": "execute_result"
    }
   ],
   "source": [
    "chalkReplacer([5,1,5],22)"
   ]
  },
  {
   "cell_type": "code",
   "execution_count": null,
   "metadata": {},
   "outputs": [],
   "source": []
  }
 ],
 "metadata": {
  "kernelspec": {
   "display_name": "Python 3",
   "language": "python",
   "name": "python3"
  },
  "language_info": {
   "codemirror_mode": {
    "name": "ipython",
    "version": 3
   },
   "file_extension": ".py",
   "mimetype": "text/x-python",
   "name": "python",
   "nbconvert_exporter": "python",
   "pygments_lexer": "ipython3",
   "version": "3.8.8"
  }
 },
 "nbformat": 4,
 "nbformat_minor": 2
}
